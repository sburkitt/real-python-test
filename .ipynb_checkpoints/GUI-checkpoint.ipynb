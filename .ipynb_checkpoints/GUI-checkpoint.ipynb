{
 "cells": [
  {
   "cell_type": "code",
   "execution_count": null,
   "metadata": {},
   "outputs": [],
   "source": [
    "from easygui import * \n",
    "from PyPDF2 import PdfFileReader, PdfFileWriter \n",
    "\n",
    "file = fileopenbox(\"\",\"Select PDF for Rotation\",\"*.pdf\")\n",
    "if file is None:\n",
    "    exit()\n",
    "\n"
   ]
  },
  {
   "cell_type": "code",
   "execution_count": null,
   "metadata": {},
   "outputs": [],
   "source": [
    "#Rotation \n",
    "rotate = ('90', '180', '270')\n",
    "message ='Rotate clockwise _ degrees'\n",
    "degrees = buttonbox(message, \"choose rotation\", rotate)"
   ]
  },
  {
   "cell_type": "code",
   "execution_count": null,
   "metadata": {},
   "outputs": [],
   "source": [
    "#output file\n",
    "out = filesavebox(\"\",\"save as\", \"*.pdf\")\n",
    "while file == out:\n",
    "    msgbox(\"cannot overwrite orignal file\", \"choose another file\")\n",
    "    out = filesavebox(\"\",\"save as\", \"*.pdf\")\n",
    "\n",
    "if out is none:\n",
    "    exit()\n"
   ]
  },
  {
   "cell_type": "code",
   "execution_count": null,
   "metadata": {},
   "outputs": [],
   "source": [
    "#read file/rotate \n",
    "newfile = PdfFileREader(open(file, \"rb\"))\n",
    "out_pdf = PdfFileWriter()\n",
    "\n",
    "for page_num in range(0, newfile.getNumPages()):\n",
    "    page = newfile.getPage(page_num)\n",
    "    page = page.rotateClockwise(int(degrees))\n",
    "    output_pdf.addPage(page)\n",
    "    \n",
    "                     "
   ]
  },
  {
   "cell_type": "code",
   "execution_count": null,
   "metadata": {},
   "outputs": [],
   "source": [
    "outfile = open(out,\"wb\")\n",
    "out_pdf.write(outfile)\n",
    "outfile.close()"
   ]
  }
 ],
 "metadata": {
  "kernelspec": {
   "display_name": "Python 3",
   "language": "python",
   "name": "python3"
  },
  "language_info": {
   "codemirror_mode": {
    "name": "ipython",
    "version": 3
   },
   "file_extension": ".py",
   "mimetype": "text/x-python",
   "name": "python",
   "nbconvert_exporter": "python",
   "pygments_lexer": "ipython3",
   "version": "3.6.4"
  }
 },
 "nbformat": 4,
 "nbformat_minor": 2
}
