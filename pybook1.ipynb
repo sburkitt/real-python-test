{
 "cells": [
  {
   "cell_type": "code",
   "execution_count": null,
   "metadata": {},
   "outputs": [],
   "source": [
    "%pwd"
   ]
  },
  {
   "cell_type": "code",
   "execution_count": null,
   "metadata": {},
   "outputs": [],
   "source": [
    "test_file = open(\"test.txt\", \"w\") # w is write\n",
    "\n",
    "test_file.writelines(\"sample text entry\")\n",
    "test_file.close()"
   ]
  },
  {
   "cell_type": "code",
   "execution_count": null,
   "metadata": {},
   "outputs": [],
   "source": [
    "print (test_file)"
   ]
  },
  {
   "cell_type": "code",
   "execution_count": null,
   "metadata": {},
   "outputs": [],
   "source": [
    "test_file = open(\"test.txt\", \"a\") # a is append \n",
    "line = 'boring but important', \"/n boiiiiiiiii\", '/n gdam'\n",
    "test_file.writelines(line)\n",
    "test_file.close()\n"
   ]
  },
  {
   "cell_type": "code",
   "execution_count": null,
   "metadata": {},
   "outputs": [],
   "source": [
    "test_file = open('test.txt', 'r')\n",
    "print (test_file.readlines())\n",
    "test_file.close()"
   ]
  },
  {
   "cell_type": "code",
   "execution_count": null,
   "metadata": {},
   "outputs": [],
   "source": []
  },
  {
   "cell_type": "code",
   "execution_count": null,
   "metadata": {},
   "outputs": [],
   "source": [
    "import sqlite3 \n",
    "connection = sqlite3.connect('test_database.db')\n",
    "c = connection.cursor()"
   ]
  },
  {
   "cell_type": "code",
   "execution_count": null,
   "metadata": {},
   "outputs": [],
   "source": [
    "c.execute(\"CREATE TABLE People(FirstName TEXT, LastName TEXT, Age INT)\")"
   ]
  },
  {
   "cell_type": "code",
   "execution_count": null,
   "metadata": {},
   "outputs": [],
   "source": [
    "c.execute(\"INSERT INTO People VALUES('Sean', 'Burkitt', '22')\")\n",
    "connection.commit()"
   ]
  },
  {
   "cell_type": "code",
   "execution_count": null,
   "metadata": {},
   "outputs": [],
   "source": [
    "connection.close()"
   ]
  },
  {
   "cell_type": "code",
   "execution_count": null,
   "metadata": {},
   "outputs": [],
   "source": [
    "#SIMPLER VERSION BELOW"
   ]
  },
  {
   "cell_type": "code",
   "execution_count": null,
   "metadata": {},
   "outputs": [],
   "source": [
    "with sqlite3.connect('test_database.db') as connection:\n",
    "    c = connection.cursor()\n",
    "    c.executescript(\"\"\"\n",
    "        DROP TABLE IF EXISTS People;\n",
    "        CREATE TABLE People(FirstName TEXT, LastName TEXT, Age INT);\n",
    "        INSERT INTO People VALUES('Sean', 'Burkitt', '22');\n",
    "\"\"\")"
   ]
  },
  {
   "cell_type": "code",
   "execution_count": null,
   "metadata": {},
   "outputs": [],
   "source": [
    "import sqlite3\n",
    "with sqlite3.connect('test_database.db') as connection:\n",
    "    c = connection.cursor()\n",
    "    people_values = (('Jack','Burkitt', 18),('Frank', 'Burkitt', 57))\n",
    "    c.executemany(\"INSERT INTO People VALUES(?,?,?)\", people_values)"
   ]
  },
  {
   "cell_type": "code",
   "execution_count": null,
   "metadata": {},
   "outputs": [],
   "source": [
    "connection.close()"
   ]
  },
  {
   "cell_type": "code",
   "execution_count": null,
   "metadata": {},
   "outputs": [],
   "source": [
    "##Entering ino"
   ]
  },
  {
   "cell_type": "code",
   "execution_count": null,
   "metadata": {},
   "outputs": [],
   "source": [
    "import sqlite3\n",
    "with sqlite3.connect('test_database.db') as connection:\n",
    "    c = connection.cursor()"
   ]
  },
  {
   "cell_type": "code",
   "execution_count": null,
   "metadata": {},
   "outputs": [],
   "source": [
    "first = input(\"Enter first\")\n",
    "last = input(\"Enter last\")\n",
    "age = int(input(\"Enter age\"))\n",
    "data = (first,last,age)\n"
   ]
  },
  {
   "cell_type": "code",
   "execution_count": null,
   "metadata": {},
   "outputs": [],
   "source": [
    "print (data)"
   ]
  },
  {
   "cell_type": "code",
   "execution_count": null,
   "metadata": {},
   "outputs": [],
   "source": [
    "import sqlite3\n",
    "with sqlite3.connect('test_database.db') as connection:\n",
    "    c = connection.cursor()\n",
    "    c.execute(\"INSERT INTO People Values(?,?,?)\", data)\n",
    "connection.close()"
   ]
  },
  {
   "cell_type": "code",
   "execution_count": null,
   "metadata": {
    "scrolled": true
   },
   "outputs": [],
   "source": [
    "import sqlite3\n",
    "with sqlite3.connect('test_database.db') as connection:\n",
    "    c = connection.cursor()\n",
    "    c.execute(\"SELECT FirstName, LastName FROM People WHERE Age > 8\")\n",
    "    for row in c.fetchall():\n",
    "        print(row)\n",
    "connection.close()"
   ]
  },
  {
   "cell_type": "code",
   "execution_count": null,
   "metadata": {},
   "outputs": [],
   "source": [
    "import sqlite3\n",
    "with sqlite3.connect('test_database.db') as connection:\n",
    "    c = connection.cursor()\n",
    "    c.execute(\"SELECT FirstName, LastName FROM People WHERE Age > 8\")\n",
    "while True: \n",
    "    row = c.fetchone()\n",
    "    if row is None:\n",
    "        break \n",
    "print (row)"
   ]
  },
  {
   "cell_type": "markdown",
   "metadata": {},
   "source": [
    "# PLOT"
   ]
  },
  {
   "cell_type": "code",
   "execution_count": null,
   "metadata": {},
   "outputs": [],
   "source": [
    "from matplotlib import pyplot as plt\n",
    "%matplotlib inline\n",
    "plt.plot([1,2,3,4,5],[2,4,6,8,10], \"g-o\")\n",
    "plt.show()"
   ]
  },
  {
   "cell_type": "code",
   "execution_count": null,
   "metadata": {},
   "outputs": [],
   "source": [
    "from matplotlib import pyplot as plt\n",
    "from numpy import arange\n",
    "\n",
    "x = arange(1,21)\n",
    "base = arange(0,20)\n",
    "plt.plot(x, base**2, \"g-o\", x, base, \"r-^\")\n",
    "plt.legend((\"squared\", 'original'), loc=2)\n",
    "plt.show()"
   ]
  },
  {
   "cell_type": "code",
   "execution_count": null,
   "metadata": {
    "scrolled": false
   },
   "outputs": [],
   "source": [
    "plt.bar(arange(0,10)*2, arange(1,21,2), )\n",
    "plt.bar((arange(0,10)*2+1), arange(1,31,3), color='red')\n",
    "plt.xticks(arange(0,10*3+1), arange(1,21), fontsize =10)\n",
    "plt.axis([0,20,0,30])\n",
    "plt.show()"
   ]
  },
  {
   "cell_type": "code",
   "execution_count": null,
   "metadata": {
    "scrolled": true
   },
   "outputs": [],
   "source": [
    "from numpy import random \n",
    "plt.hist(random.randn(10000),20)\n",
    "plt.annotate(\"expected mean\", xy = (0,0), xytext = (0,300), ha= 'center', \n",
    "             arrowprops=dict(facecolor='black'), fontsize=10)\n",
    "plt.show()"
   ]
  },
  {
   "cell_type": "code",
   "execution_count": null,
   "metadata": {},
   "outputs": [],
   "source": [
    "%pwd"
   ]
  },
  {
   "cell_type": "code",
   "execution_count": null,
   "metadata": {},
   "outputs": [],
   "source": [
    "from numpy import random \n",
    "plt.hist(random.randn(10000),20)\n",
    "plt.annotate(\"expected mean\", xy = (0,0), xytext = (0,300), ha= 'center', \n",
    "             arrowprops=dict(facecolor='black'), fontsize=10)\n",
    "plt.show()\n",
    "path = \"/Users/sean/Desktop/volume\"\n",
    "plt.savefig('/Users/sean/Desktop/volume/histogram.pdf')"
   ]
  },
  {
   "cell_type": "code",
   "execution_count": null,
   "metadata": {
    "scrolled": true
   },
   "outputs": [],
   "source": [
    "#interactive mode\n",
    "from matplotlib import pyplot as plt\n",
    "plt.ion()\n",
    "from numpy import arange\n",
    "\n",
    "x = arange(1,21)\n",
    "base = arange(0,20)\n",
    "plt.plot(x, base**2, \"g-o\", x, base, \"r-^\")\n",
    "plt.legend((\"squared\", 'original'), loc=2)\n"
   ]
  },
  {
   "cell_type": "markdown",
   "metadata": {},
   "source": [
    "# GUI"
   ]
  },
  {
   "cell_type": "code",
   "execution_count": null,
   "metadata": {},
   "outputs": [],
   "source": [
    "from easygui import * \n",
    "msgbox(\"Hell, EasyGUI!\", \"Message Box\", \"Hello\")\n",
    "#so goes message, messga box title, button name "
   ]
  },
  {
   "cell_type": "code",
   "execution_count": null,
   "metadata": {},
   "outputs": [],
   "source": [
    "choices = ('blue','yellow', 'green')\n",
    "buttonbox('what is your favorie color?', \"choose wisely\", choices)"
   ]
  },
  {
   "cell_type": "code",
   "execution_count": null,
   "metadata": {},
   "outputs": [],
   "source": [
    "#passwordbox('what is your favorie color?', \"choose wisely\")\n",
    "fileopenbox(\"text open\", \"title\", \".txt\")"
   ]
  },
  {
   "cell_type": "code",
   "execution_count": null,
   "metadata": {},
   "outputs": [],
   "source": []
  }
 ],
 "metadata": {
  "kernelspec": {
   "display_name": "Python 3",
   "language": "python",
   "name": "python3"
  },
  "language_info": {
   "codemirror_mode": {
    "name": "ipython",
    "version": 3
   },
   "file_extension": ".py",
   "mimetype": "text/x-python",
   "name": "python",
   "nbconvert_exporter": "python",
   "pygments_lexer": "ipython3",
   "version": "3.6.4"
  }
 },
 "nbformat": 4,
 "nbformat_minor": 2
}
